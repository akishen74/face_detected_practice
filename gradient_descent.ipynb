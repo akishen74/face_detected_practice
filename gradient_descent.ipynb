{
 "cells": [
  {
   "cell_type": "code",
   "execution_count": 1,
   "metadata": {},
   "outputs": [
    {
     "name": "stdout",
     "output_type": "stream",
     "text": [
      "n_iter: 0 [47 33] theta: (8, 8)\n",
      "n_iter: 5 [35.82105609 26.08141891] theta: (5.8859358693, 6.494559130700001)\n",
      "n_iter: 10 [27.33735372 20.56160142] theta: (4.273877821086325, 5.305913206727738)\n",
      "n_iter: 15 [20.88855524 16.17474317] theta: (3.0430307033296407, 4.369628979226413)\n",
      "n_iter: 20 [15.97910901 12.69976478] theta: (2.1021262529309293, 3.633648505605747)\n",
      "n_iter: 25 [12.23628375  9.9548821 ] theta: (1.3820738450196697, 3.056159324929676)\n",
      "n_iter: 30 [9.37912285 7.79197826] theta: (0.8304775820498007, 2.603742641037201)\n",
      "n_iter: 35 [7.19541437 6.09125634] theta: (0.40753550258905324, 2.249798641212666)\n",
      "n_iter: 40 [5.52456121 4.75641131] theta: (0.08296510245554654, 1.9732294025861075)\n",
      "n_iter: 45 [4.24480675 3.7104138 ] theta: (-0.1663070190551781, 1.7573511308486576)\n",
      "n_iter: 50 [3.26368449 2.89191353] theta: (-0.35788512918492055, 1.5890047336123336)\n",
      "n_iter: 55 [2.51086057 2.25222384] theta: (-0.5052175067838248, 1.4578343884722977)\n",
      "n_iter: 60 [1.93275724 1.75282668] theta: (-0.6185894247353867, 1.3557062085266196)\n",
      "n_iter: 65 [1.48850509 1.36332949] theta: (-0.7058754275055955, 1.2762423435145602)\n",
      "n_iter: 70 [1.14688922 1.05980601] theta: (-0.7731102471465812, 1.2144492941349818)\n",
      "n_iter: 75 [0.88404074 0.82345797] theta: (-0.8249227880133927, 1.1664225295474338)\n",
      "n_iter: 80 [0.68168834 0.63954161] theta: (-0.8648665239634319, 1.12911251412365)\n",
      "n_iter: 85 [0.52583177 0.49651078] theta: (-0.8956713884141976, 1.100139898410987)\n",
      "n_iter: 90 [0.40573373 0.38533545] theta: (-0.9194360628037016, 1.0776498981582454)\n",
      "n_iter: 95 [0.31315255 0.2989617 ] theta: (-0.9377749435437154, 1.0601977933898252)\n",
      "最小值: 3.0112203340691988\n",
      "最小點: [-0.95193059  1.04665906]\n"
     ]
    }
   ],
   "source": [
    "import numpy as np\n",
    "\n",
    "def L(params):\n",
    "    u, v = params\n",
    "    return 3*u**2 + 3*v**2 - u*v + 7*u - 7*v + 10\n",
    "\n",
    "\n",
    "def gradient_func(theta):\n",
    "\n",
    "    # du = 6u−v+7\n",
    "    du = 6 * theta[0] - theta[1] + 7\n",
    "    # dv = 6v−u−7\n",
    "    dv = 6 * theta[1] - theta[0] - 7\n",
    "    return np.array([du, dv])\n",
    "\n",
    "theta = np.random.randint(-10, 10, size=2)\n",
    "l_rate = 0.01\n",
    "n_iter = 100\n",
    "\n",
    "for i in range(n_iter):\n",
    "    gradient = gradient_func(theta)\n",
    "    if i % 5 == 0: \n",
    "        print(f\"n_iter: {i}\", gradient, f\"theta: ({theta[0]}, {theta[1]})\") \n",
    "    theta = theta - l_rate * gradient\n",
    "\n",
    "print(\"最小值:\", L([theta[0], theta[1]]))\n",
    "print(\"最小點:\", theta)"
   ]
  },
  {
   "cell_type": "code",
   "execution_count": 2,
   "metadata": {},
   "outputs": [
    {
     "name": "stdout",
     "output_type": "stream",
     "text": [
      "最小值: 2.999999999999999\n",
      "最小點: [-1.  1.]\n"
     ]
    }
   ],
   "source": [
    "import numpy as np\n",
    "from scipy.optimize import minimize\n",
    "\n",
    "init_ = np.random.rand(2)\n",
    "\n",
    "res = minimize(L, init_, method='BFGS')\n",
    "\n",
    "print(\"最小值:\", res.fun)\n",
    "print(\"最小點:\", res.x)"
   ]
  },
  {
   "cell_type": "code",
   "execution_count": 3,
   "metadata": {},
   "outputs": [
    {
     "name": "stdout",
     "output_type": "stream",
     "text": [
      "X: [[12  5 15  5 17  9  9  0  5  0]\n",
      " [13  3  1  1  7 11  8 11 16 10]]\n",
      "Y: [786 111 771 111 975 503 380 296 696 240]\n"
     ]
    }
   ],
   "source": [
    "\n",
    "cntner = []\n",
    "for a, b in zip([np.random.randint(20) for i in range(0, 10)], [np.random.randint(20) for i in range(0, 10)]):\n",
    "    cntner.append([a, b, L([a, b])])\n",
    "    \n",
    "train = np.array(cntner)\n",
    "\n",
    "train_x = [train[:, 0], train[:, 1]]\n",
    "train_x = np.vstack((train_x[0], train_x[1])).transpose()\n",
    "train_y = train[:, 2]\n",
    "\n",
    "print(\"X:\", train_x.transpose())\n",
    "print(\"Y:\", train_y)"
   ]
  },
  {
   "cell_type": "code",
   "execution_count": 4,
   "metadata": {},
   "outputs": [
    {
     "name": "stdout",
     "output_type": "stream",
     "text": [
      "[3.]\n"
     ]
    }
   ],
   "source": [
    "from sklearn.linear_model import LinearRegression\n",
    "from sklearn.pipeline import make_pipeline\n",
    "from sklearn.preprocessing import PolynomialFeatures\n",
    "\n",
    "# model=LinearRegression()\n",
    "model = make_pipeline(PolynomialFeatures(degree=2), LinearRegression())\n",
    "model.fit(train_x, train_y)\n",
    "print(model.predict(np.array([[-1, 1]])))\n"
   ]
  }
 ],
 "metadata": {
  "kernelspec": {
   "display_name": "Python 3",
   "language": "python",
   "name": "python3"
  },
  "language_info": {
   "codemirror_mode": {
    "name": "ipython",
    "version": 3
   },
   "file_extension": ".py",
   "mimetype": "text/x-python",
   "name": "python",
   "nbconvert_exporter": "python",
   "pygments_lexer": "ipython3",
   "version": "3.12.1"
  }
 },
 "nbformat": 4,
 "nbformat_minor": 2
}
