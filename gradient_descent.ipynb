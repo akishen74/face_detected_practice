{
 "cells": [
  {
   "cell_type": "code",
   "execution_count": 12,
   "metadata": {},
   "outputs": [
    {
     "name": "stdout",
     "output_type": "stream",
     "text": [
      "n_iter: 0 [ 43 -48]\n",
      "n_iter: 5 [ 29.71936846 -33.58827315]\n",
      "n_iter: 10 [ 20.52435263 -23.51803732]\n",
      "n_iter: 15 [ 14.16166115 -16.4781173 ]\n",
      "n_iter: 20 [  9.76165395 -11.55408356]\n",
      "n_iter: 25 [ 6.7210814  -8.10802926]\n",
      "n_iter: 30 [ 4.621623   -5.69481682]\n",
      "n_iter: 35 [ 3.17330514 -4.00372206]\n",
      "n_iter: 40 [ 2.17520678 -2.81776756]\n",
      "n_iter: 45 [ 1.48817645 -1.98537773]\n",
      "n_iter: 50 [ 1.01589318 -1.40061806]\n",
      "n_iter: 55 [ 0.691723   -0.98941577]\n",
      "n_iter: 60 [ 0.46959985 -0.69994884]\n",
      "n_iter: 65 [ 0.31770088 -0.49594054]\n",
      "n_iter: 70 [ 0.21406121 -0.35197966]\n",
      "n_iter: 75 [ 0.14353469 -0.25025336]\n",
      "n_iter: 80 [ 0.09568845 -0.17826532]\n",
      "n_iter: 85 [ 0.06334502 -0.12724143]\n",
      "n_iter: 90 [ 0.04157348 -0.0910153 ]\n",
      "n_iter: 95 [ 0.02699166 -0.06524881]\n",
      "最小值: 3.000190882572297\n",
      "最小點: [-0.99837665  0.99245612]\n"
     ]
    }
   ],
   "source": [
    "import numpy as np\n",
    "\n",
    "def L(params):\n",
    "    u, v = params\n",
    "    return 3*u**2 + 3*v**2 - u*v + 7*u - 7*v + 10\n",
    "\n",
    "\n",
    "def gradient_func(theta):\n",
    "\n",
    "    # du = 6u−v+7\n",
    "    du = 6 * theta[0] - theta[1] + 7\n",
    "    # dv = 6v−u−7\n",
    "    dv = 6 * theta[1] - theta[0] - 7\n",
    "    return np.array([du, dv])\n",
    "\n",
    "theta = np.random.randint(-10, 10, size=2)\n",
    "l_rate = 0.01\n",
    "n_iter = 100\n",
    "\n",
    "for i in range(n_iter):\n",
    "    gradient = gradient_func(theta)\n",
    "    if i % 5 == 0: \n",
    "        print(f\"n_iter: {i}\", gradient) \n",
    "    theta = theta - l_rate * gradient\n",
    "\n",
    "print(\"最小值:\", L([theta[0], theta[1]]))\n",
    "print(\"最小點:\", theta)"
   ]
  },
  {
   "cell_type": "code",
   "execution_count": 13,
   "metadata": {},
   "outputs": [
    {
     "name": "stdout",
     "output_type": "stream",
     "text": [
      "最小值: 3.0000000000000293\n",
      "最小點: [-1.00000006  1.00000006]\n"
     ]
    }
   ],
   "source": [
    "import numpy as np\n",
    "from scipy.optimize import minimize\n",
    "\n",
    "init_ = np.random.rand(2)\n",
    "\n",
    "res = minimize(L, init_, method='BFGS')\n",
    "\n",
    "print(\"最小值:\", res.fun)\n",
    "print(\"最小點:\", res.x)"
   ]
  },
  {
   "cell_type": "code",
   "execution_count": 14,
   "metadata": {},
   "outputs": [
    {
     "name": "stdout",
     "output_type": "stream",
     "text": [
      "X: [[ 2  2  2  8 17 15 15  0 15 10]\n",
      " [ 7  5 15 13 16 16 14  7  9 17]]\n",
      "Y: [ 120   66  576  570 1380 1206 1070  108  835  958]\n"
     ]
    }
   ],
   "source": [
    "\n",
    "cntner = []\n",
    "for a, b in zip([np.random.randint(20) for i in range(0, 10)], [np.random.randint(20) for i in range(0, 10)]):\n",
    "    cntner.append([a, b, L([a, b])])\n",
    "    \n",
    "train = np.array(cntner)\n",
    "\n",
    "train_x = [train[:, 0], train[:, 1]]\n",
    "train_x = np.vstack((train_x[0], train_x[1])).transpose()\n",
    "train_y = train[:, 2]\n",
    "\n",
    "print(\"X:\", train_x.transpose())\n",
    "print(\"Y:\", train_y)"
   ]
  },
  {
   "cell_type": "code",
   "execution_count": 15,
   "metadata": {},
   "outputs": [
    {
     "name": "stdout",
     "output_type": "stream",
     "text": [
      "[3.]\n"
     ]
    }
   ],
   "source": [
    "from sklearn.linear_model import LinearRegression\n",
    "from sklearn.pipeline import make_pipeline\n",
    "from sklearn.preprocessing import PolynomialFeatures\n",
    "\n",
    "# model=LinearRegression()\n",
    "model = make_pipeline(PolynomialFeatures(degree=2), LinearRegression())\n",
    "model.fit(train_x, train_y)\n",
    "print(model.predict(np.array([[-1, 1]])))\n"
   ]
  }
 ],
 "metadata": {
  "kernelspec": {
   "display_name": "Python 3",
   "language": "python",
   "name": "python3"
  },
  "language_info": {
   "codemirror_mode": {
    "name": "ipython",
    "version": 3
   },
   "file_extension": ".py",
   "mimetype": "text/x-python",
   "name": "python",
   "nbconvert_exporter": "python",
   "pygments_lexer": "ipython3",
   "version": "3.12.1"
  }
 },
 "nbformat": 4,
 "nbformat_minor": 2
}
